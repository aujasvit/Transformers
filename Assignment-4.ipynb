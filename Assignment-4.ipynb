{
  "nbformat": 4,
  "nbformat_minor": 0,
  "metadata": {
    "colab": {
      "provenance": [],
      "gpuType": "T4",
      "include_colab_link": true
    },
    "kernelspec": {
      "name": "python3",
      "display_name": "Python 3"
    },
    "language_info": {
      "name": "python"
    },
    "accelerator": "GPU"
  },
  "cells": [
    {
      "cell_type": "markdown",
      "metadata": {
        "id": "view-in-github",
        "colab_type": "text"
      },
      "source": [
        "<a href=\"https://colab.research.google.com/github/aujasvit/Transformers/blob/main/Assignment-4.ipynb\" target=\"_parent\"><img src=\"https://colab.research.google.com/assets/colab-badge.svg\" alt=\"Open In Colab\"/></a>"
      ]
    },
    {
      "cell_type": "markdown",
      "source": [
        "##Question 1: PotterGPT (Kind of)\n",
        "\n",
        "More like PotterGPRNNs\n",
        "\n",
        "Use textual data from the book The Philosopher's Stone to train a generative RNN which can complete sentences for you.\n"
      ],
      "metadata": {
        "id": "d4tvL4ngnEDS"
      }
    },
    {
      "cell_type": "code",
      "source": [
        "import tensorflow as tf\n",
        "from tensorflow.keras.models import Sequential\n",
        "from tensorflow.keras.layers import LSTM, Dense\n",
        "import numpy as np"
      ],
      "metadata": {
        "id": "63SP5_sxhWtW"
      },
      "execution_count": null,
      "outputs": []
    },
    {
      "cell_type": "markdown",
      "source": [
        "### Read the data"
      ],
      "metadata": {
        "id": "xFbEE5PAGOoC"
      }
    },
    {
      "cell_type": "code",
      "source": [
        "!git clone https://github.com/Anweshbyte/whiteboard.git"
      ],
      "metadata": {
        "colab": {
          "base_uri": "https://localhost:8080/"
        },
        "id": "Vf2pLFlAhWQ0",
        "outputId": "d2e34a46-12b7-4969-9113-62d8f9a41800"
      },
      "execution_count": null,
      "outputs": [
        {
          "output_type": "stream",
          "name": "stdout",
          "text": [
            "Cloning into 'whiteboard'...\n",
            "remote: Enumerating objects: 173, done.\u001b[K\n",
            "remote: Total 173 (delta 0), reused 0 (delta 0), pack-reused 173\u001b[K\n",
            "Receiving objects: 100% (173/173), 27.92 MiB | 10.63 MiB/s, done.\n",
            "Resolving deltas: 100% (29/29), done.\n"
          ]
        }
      ]
    },
    {
      "cell_type": "code",
      "source": [
        "# Load and preprocess the text data\n",
        "text = open(\"/content/whiteboard/nbviewer/notebooks/data/harrypotter/Book 1 - The Philosopher's Stone.txt\", 'r').read()"
      ],
      "metadata": {
        "id": "NCQ_DrbAhZqB"
      },
      "execution_count": null,
      "outputs": []
    },
    {
      "cell_type": "markdown",
      "source": [
        "##Training and Labels\n",
        "We would like to split our input data into Training Data and label.\n",
        "How do we go about it?\n",
        "\n",
        "Say we have a sentence:- I love the Transformers.\n",
        "\n",
        "The training data will look like: \"I love the\"\n",
        "and the corresponding label will look like: \"I love the T\"\n",
        "That is, the model must predict the next letter in the sequence.\n",
        "\n",
        "The next training sample will be shifted to the right by one."
      ],
      "metadata": {
        "id": "lW1dRtG2ilnl"
      }
    },
    {
      "cell_type": "code",
      "source": [
        "sample_text = \"The Transformer Nostradamus\"\n",
        "sequence_length = 10\n",
        "sequences = []\n",
        "next_chars = []\n",
        "for i in range(len(sample_text) - sequence_length):\n",
        "    sequences.append(sample_text[i:i + sequence_length])\n",
        "    next_chars.append(sample_text[i+sequence_length]) #Predict the next character in the sequence\n",
        "\n",
        "# for i in range(len(sequences)):\n",
        "#   print(sequences[i] + next_chars[i])\n",
        "print(sequences)\n",
        "print(next_chars)"
      ],
      "metadata": {
        "colab": {
          "base_uri": "https://localhost:8080/"
        },
        "id": "PVtWd2-Fipy4",
        "outputId": "fc383ef0-81cc-42df-c3dd-10d4d0e3cf91"
      },
      "execution_count": null,
      "outputs": [
        {
          "output_type": "stream",
          "name": "stdout",
          "text": [
            "['The Transf', 'he Transfo', 'e Transfor', ' Transform', 'Transforme', 'ransformer', 'ansformer ', 'nsformer N', 'sformer No', 'former Nos', 'ormer Nost', 'rmer Nostr', 'mer Nostra', 'er Nostrad', 'r Nostrada', ' Nostradam', 'Nostradamu']\n",
            "['o', 'r', 'm', 'e', 'r', ' ', 'N', 'o', 's', 't', 'r', 'a', 'd', 'a', 'm', 'u', 's']\n"
          ]
        }
      ]
    },
    {
      "cell_type": "code",
      "source": [
        "# Create input-output pairs\n",
        "\n",
        "sequence_length = 50\n",
        "sequences = []\n",
        "next_chars = []\n",
        "for i in range(len(text) - sequence_length):\n",
        "    sequences.append(text[i:i + sequence_length])    # Apply the previous operation on the entire text\n",
        "    next_chars.append(text[i + sequence_length])   # Apply the previous operation on the entire text\n",
        "\n",
        "# print(sequences[:5])\n",
        "# print(next_chars[:5])"
      ],
      "metadata": {
        "id": "fpfIUD-xhgu2"
      },
      "execution_count": null,
      "outputs": []
    },
    {
      "cell_type": "code",
      "source": [
        "# Vectorize the data\n",
        "chars = sorted(list(set(text))) # Create a list of unique characters present in the text data\n",
        "char_indices = {char: index for index, char in enumerate(chars)}\n",
        "num_chars = len(chars)\n",
        "\n",
        "x = np.zeros((len(sequences), sequence_length, num_chars), dtype=np.bool)\n",
        "y = np.zeros((len(sequences), num_chars), dtype=np.bool) # Initialize a 2D numpy array with dimensions (len(sequences), num_chars). It will be used to store the target data for the neural network. each element in y is initialized to zero.\n",
        "\n",
        "\n",
        "for i, sequence in enumerate(sequences):\n",
        "    for t, char in enumerate(sequence):\n",
        "        x[i, t, char_indices[char]] = 1  # Set the value at the appropriate position in the x array to 1\n",
        "    y[i, char_indices[next_chars[i]]] = 1"
      ],
      "metadata": {
        "colab": {
          "base_uri": "https://localhost:8080/"
        },
        "id": "BI4W1blLhg0i",
        "outputId": "3e54f2a6-49fc-4e1b-a604-3b423c89ac07"
      },
      "execution_count": null,
      "outputs": [
        {
          "output_type": "stream",
          "name": "stderr",
          "text": [
            "<ipython-input-8-0ece26229c46>:6: DeprecationWarning: `np.bool` is a deprecated alias for the builtin `bool`. To silence this warning, use `bool` by itself. Doing this will not modify any behavior and is safe. If you specifically wanted the numpy scalar type, use `np.bool_` here.\n",
            "Deprecated in NumPy 1.20; for more details and guidance: https://numpy.org/devdocs/release/1.20.0-notes.html#deprecations\n",
            "  x = np.zeros((len(sequences), sequence_length, num_chars), dtype=np.bool)\n",
            "<ipython-input-8-0ece26229c46>:7: DeprecationWarning: `np.bool` is a deprecated alias for the builtin `bool`. To silence this warning, use `bool` by itself. Doing this will not modify any behavior and is safe. If you specifically wanted the numpy scalar type, use `np.bool_` here.\n",
            "Deprecated in NumPy 1.20; for more details and guidance: https://numpy.org/devdocs/release/1.20.0-notes.html#deprecations\n",
            "  y = np.zeros((len(sequences), num_chars), dtype=np.bool) # Initialize a 2D numpy array with dimensions (len(sequences), num_chars). It will be used to store the target data for the neural network. each element in y is initialized to zero.\n"
          ]
        }
      ]
    },
    {
      "cell_type": "code",
      "source": [
        "# Build the RNN model\n",
        "model = Sequential() # define a sequential model\n",
        "model.add(LSTM(128, input_shape = (sequence_length, num_chars))) # Add LSTM layer with 128 features and proper input shape\n",
        "model.add(Dense(num_chars, activation='softmax'))"
      ],
      "metadata": {
        "id": "2cK7L9eMhlLk"
      },
      "execution_count": null,
      "outputs": []
    },
    {
      "cell_type": "code",
      "source": [
        "# Compile the model\n",
        "model.compile(loss='categorical_crossentropy', optimizer='adam')"
      ],
      "metadata": {
        "id": "nUoUASDKhof5"
      },
      "execution_count": null,
      "outputs": []
    },
    {
      "cell_type": "code",
      "source": [
        "# Train the model\n",
        "epochs = 50 # With the small number of training epochs, the model won't learn to form coherent sentences. The easiest thing you can do to improve the results is to train it for longer (try EPOCHS = 30).\n",
        "batch_size = 64\n",
        "model.fit(x, y, batch_size = batch_size, epochs = epochs, verbose = 1) # Using model.fit() train the model for a fixed number of epochs (dataset iterations)."
      ],
      "metadata": {
        "colab": {
          "base_uri": "https://localhost:8080/"
        },
        "id": "OcauZSpShpB2",
        "outputId": "a7c63365-f2b6-4617-dd68-0e81f7a42d0d"
      },
      "execution_count": null,
      "outputs": [
        {
          "output_type": "stream",
          "name": "stdout",
          "text": [
            "Epoch 1/50\n",
            "7413/7413 [==============================] - 51s 6ms/step - loss: 2.1900\n",
            "Epoch 2/50\n",
            "7413/7413 [==============================] - 42s 6ms/step - loss: 1.7494\n",
            "Epoch 3/50\n",
            "7413/7413 [==============================] - 41s 6ms/step - loss: 1.5953\n",
            "Epoch 4/50\n",
            "7413/7413 [==============================] - 40s 5ms/step - loss: 1.5094\n",
            "Epoch 5/50\n",
            "7413/7413 [==============================] - 41s 6ms/step - loss: 1.4513\n",
            "Epoch 6/50\n",
            "7413/7413 [==============================] - 42s 6ms/step - loss: 1.4071\n",
            "Epoch 7/50\n",
            "7413/7413 [==============================] - 40s 5ms/step - loss: 1.3728\n",
            "Epoch 8/50\n",
            "7413/7413 [==============================] - 40s 5ms/step - loss: 1.3444\n",
            "Epoch 9/50\n",
            "7413/7413 [==============================] - 42s 6ms/step - loss: 1.3214\n",
            "Epoch 10/50\n",
            "7413/7413 [==============================] - 41s 5ms/step - loss: 1.3023\n",
            "Epoch 11/50\n",
            "7413/7413 [==============================] - 41s 6ms/step - loss: 1.2852\n",
            "Epoch 12/50\n",
            "7413/7413 [==============================] - 40s 5ms/step - loss: 1.2702\n",
            "Epoch 13/50\n",
            "7413/7413 [==============================] - 40s 5ms/step - loss: 1.2567\n",
            "Epoch 14/50\n",
            "7413/7413 [==============================] - 41s 5ms/step - loss: 1.2452\n",
            "Epoch 15/50\n",
            "7413/7413 [==============================] - 40s 5ms/step - loss: 1.2342\n",
            "Epoch 16/50\n",
            "7413/7413 [==============================] - 39s 5ms/step - loss: 1.2243\n",
            "Epoch 17/50\n",
            "7413/7413 [==============================] - 40s 5ms/step - loss: 1.2152\n",
            "Epoch 18/50\n",
            "7413/7413 [==============================] - 40s 5ms/step - loss: 1.2069\n",
            "Epoch 19/50\n",
            "7413/7413 [==============================] - 40s 5ms/step - loss: 1.1992\n",
            "Epoch 20/50\n",
            "7413/7413 [==============================] - 40s 5ms/step - loss: 1.1923\n",
            "Epoch 21/50\n",
            "7413/7413 [==============================] - 40s 5ms/step - loss: 1.1853\n",
            "Epoch 22/50\n",
            "7413/7413 [==============================] - 40s 5ms/step - loss: 1.1790\n",
            "Epoch 23/50\n",
            "7413/7413 [==============================] - 40s 5ms/step - loss: 1.1735\n",
            "Epoch 24/50\n",
            "7413/7413 [==============================] - 41s 5ms/step - loss: 1.1676\n",
            "Epoch 25/50\n",
            "7413/7413 [==============================] - 40s 5ms/step - loss: 1.1629\n",
            "Epoch 26/50\n",
            "7413/7413 [==============================] - 40s 5ms/step - loss: 1.1577\n",
            "Epoch 27/50\n",
            "7413/7413 [==============================] - 40s 5ms/step - loss: 1.1531\n",
            "Epoch 28/50\n",
            "7413/7413 [==============================] - 40s 5ms/step - loss: 1.1488\n",
            "Epoch 29/50\n",
            "7413/7413 [==============================] - 41s 6ms/step - loss: 1.1449\n",
            "Epoch 30/50\n",
            "7413/7413 [==============================] - 40s 5ms/step - loss: 1.1407\n",
            "Epoch 31/50\n",
            "7413/7413 [==============================] - 40s 5ms/step - loss: 1.1376\n",
            "Epoch 32/50\n",
            "7413/7413 [==============================] - 40s 5ms/step - loss: 1.1335\n",
            "Epoch 33/50\n",
            "7413/7413 [==============================] - 40s 5ms/step - loss: 1.1302\n",
            "Epoch 34/50\n",
            "7413/7413 [==============================] - 41s 6ms/step - loss: 1.1268\n",
            "Epoch 35/50\n",
            "7413/7413 [==============================] - 40s 5ms/step - loss: 1.1242\n",
            "Epoch 36/50\n",
            "7413/7413 [==============================] - 40s 5ms/step - loss: 1.1208\n",
            "Epoch 37/50\n",
            "7413/7413 [==============================] - 39s 5ms/step - loss: 1.1188\n",
            "Epoch 38/50\n",
            "7413/7413 [==============================] - 40s 5ms/step - loss: 1.1164\n",
            "Epoch 39/50\n",
            "7413/7413 [==============================] - 40s 5ms/step - loss: 1.1140\n",
            "Epoch 40/50\n",
            "7413/7413 [==============================] - 40s 5ms/step - loss: 1.1120\n",
            "Epoch 41/50\n",
            "7413/7413 [==============================] - 40s 5ms/step - loss: 1.1096\n",
            "Epoch 42/50\n",
            "7413/7413 [==============================] - 40s 5ms/step - loss: 1.1075\n",
            "Epoch 43/50\n",
            "7413/7413 [==============================] - 40s 5ms/step - loss: 1.1005\n",
            "Epoch 44/50\n",
            "7413/7413 [==============================] - 39s 5ms/step - loss: 1.1039\n",
            "Epoch 45/50\n",
            "7413/7413 [==============================] - 39s 5ms/step - loss: 1.1017\n",
            "Epoch 46/50\n",
            "7413/7413 [==============================] - 40s 5ms/step - loss: 1.1024\n",
            "Epoch 47/50\n",
            "7413/7413 [==============================] - 40s 5ms/step - loss: 1.0993\n",
            "Epoch 48/50\n",
            "7413/7413 [==============================] - 41s 5ms/step - loss: 1.0979\n",
            "Epoch 49/50\n",
            "7413/7413 [==============================] - 40s 5ms/step - loss: 1.0966\n",
            "Epoch 50/50\n",
            "7413/7413 [==============================] - 40s 5ms/step - loss: 1.0937\n"
          ]
        },
        {
          "output_type": "execute_result",
          "data": {
            "text/plain": [
              "<keras.callbacks.History at 0x7f98e00e6a40>"
            ]
          },
          "metadata": {},
          "execution_count": 11
        }
      ]
    },
    {
      "cell_type": "code",
      "source": [
        "# Generate text\n",
        "import random\n",
        "start_index = random.randrange(0, len(text))# Choose random indices between 0(inclusive) and len(text) - sequence_length -1 (exclusive)\n",
        "seed_sequence = text[start_index:start_index + sequence_length]"
      ],
      "metadata": {
        "id": "bTcdPNEnhrI3"
      },
      "execution_count": null,
      "outputs": []
    },
    {
      "cell_type": "markdown",
      "source": [
        "We have trained it for only 1 epoch, so the performance of the model is BAD. Try training it for 10 epochs, and then 50 epochs, and you will see a better performance."
      ],
      "metadata": {
        "id": "DUxZawOjlG56"
      }
    },
    {
      "cell_type": "code",
      "source": [
        "generated_text = \"The letter from Dumbledore said that \" #You can play with this!\n",
        "for _ in range(200):\n",
        "    x_pred = np.zeros((1, sequence_length, num_chars))\n",
        "    for t, char in enumerate(seed_sequence):\n",
        "        x_pred[0, t, char_indices[char]] = 1\n",
        "    predicted_probs = model.predict(x_pred, verbose=0)[0]\n",
        "    next_char_index = np.random.choice(range(num_chars), p=predicted_probs)\n",
        "    next_char = chars[next_char_index] # Retrieve the character corresponding to the sampled index from the `chars` list and store it in the `next_char` variable.\n",
        "    generated_text = generated_text + next_char # Append the `next_char` to the `generated_text`\n",
        "    seed_sequence = seed_sequence[1:] + next_char #  Update the `seed_sequence` by removing the first character and adding the `next_char` at the end. This step prepares the updated `seed_sequence` for the next iteration.\n",
        "\n",
        "print(generated_text)"
      ],
      "metadata": {
        "colab": {
          "base_uri": "https://localhost:8080/"
        },
        "id": "j_JfapiChtdP",
        "outputId": "de79a5f4-0b83-4c62-882d-67ad98738e72"
      },
      "execution_count": null,
      "outputs": [
        {
          "output_type": "stream",
          "name": "stdout",
          "text": [
            "The letter from Dumbledore said that t \n",
            "a howling the lange-book red and decped said of its \n",
            "spoppin’ brave violet, then. \n",
            "Fingred Ron we’d too leave was older that ovorcry on \n",
            "the lot worth students watched spross into ent his \n",
            "voice. \n",
            "\n"
          ]
        }
      ]
    },
    {
      "cell_type": "markdown",
      "source": [
        "##Question 2: StockPredict101x\n",
        "\n",
        "Build a RNN/LSTM/GRU model which can predict stock prices."
      ],
      "metadata": {
        "id": "aliT9MVQKgi9"
      }
    },
    {
      "cell_type": "code",
      "source": [
        "import yfinance as yf\n",
        "import numpy as np\n",
        "import pandas as pd\n",
        "import matplotlib.pyplot as plt\n",
        "from sklearn.preprocessing import MinMaxScaler\n",
        "from tensorflow.keras.models import Sequential\n",
        "from tensorflow.keras.layers import SimpleRNN, Dense\n",
        "from tensorflow.keras.layers import LSTM, Dense"
      ],
      "metadata": {
        "id": "NH8JI3vXKf8X"
      },
      "execution_count": null,
      "outputs": []
    },
    {
      "cell_type": "code",
      "source": [
        "# Define the ticker symbol and time period\n",
        "ticker = 'TATAMOTORS.NS'\n",
        "start_date = '2010-01-01'\n",
        "end_date = '2022-12-31'\n",
        "\n",
        "# Download the data\n",
        "data = yf.download(ticker, start=start_date, end=end_date)\n"
      ],
      "metadata": {
        "id": "H4-yRBBmbZ_O",
        "colab": {
          "base_uri": "https://localhost:8080/"
        },
        "outputId": "65cab4ac-d2d9-4b37-b59e-a63cb717d9f6"
      },
      "execution_count": null,
      "outputs": [
        {
          "output_type": "stream",
          "name": "stdout",
          "text": [
            "\r[*********************100%***********************]  1 of 1 completed\n"
          ]
        }
      ]
    },
    {
      "cell_type": "code",
      "source": [
        "# Select the 'Close' price column\n",
        "df = data[['Close']]\n",
        "\n",
        "# Normalize the data\n",
        "scaler = MinMaxScaler(feature_range=(0, 1))\n",
        "scaled_data = scaler.fit_transform(df.values)\n",
        "\n",
        "# Split the data into training and testing sets\n",
        "train_size = int(len(scaled_data) * 0.8)\n",
        "train_data = scaled_data[:train_size]\n",
        "test_data = scaled_data[train_size:]\n",
        "\n",
        "# Create sequences of historical data\n",
        "def create_sequences(data, seq_length):\n",
        "    X = []\n",
        "    y = []\n",
        "    for i in range(len(data) - seq_length):\n",
        "        X.append(data[i:i + seq_length])\n",
        "        y.append(data[i + seq_length])\n",
        "    return np.array(X), np.array(y)\n",
        "\n",
        "batch_size = 64\n",
        "epochs = 100\n",
        "seq_length = 30  # Number of previous days to consider\n",
        "X_train, y_train = create_sequences(train_data, seq_length)\n",
        "X_test, y_test = create_sequences(test_data, seq_length)"
      ],
      "metadata": {
        "id": "uMdSYuxvKwb_"
      },
      "execution_count": null,
      "outputs": []
    },
    {
      "cell_type": "code",
      "source": [
        "rnn_model = Sequential()\n",
        "rnn_model.add(SimpleRNN(128, input_shape = (seq_length, 1)))\n",
        "rnn_model.add(Dense(1))\n",
        "rnn_model.compile(optimizer='adam', loss='mean_squared_error')\n",
        "rnn_model.fit(X_train, y_train, batch_size = batch_size, epochs = epochs, verbose = 1)"
      ],
      "metadata": {
        "colab": {
          "base_uri": "https://localhost:8080/"
        },
        "id": "lL_A_BFHKy75",
        "outputId": "6ad64201-79ad-47b6-a319-e43ed5b37ad6"
      },
      "execution_count": null,
      "outputs": [
        {
          "output_type": "stream",
          "name": "stdout",
          "text": [
            "Epoch 1/100\n",
            "40/40 [==============================] - 3s 19ms/step - loss: 0.0231\n",
            "Epoch 2/100\n",
            "40/40 [==============================] - 1s 20ms/step - loss: 7.8596e-04\n",
            "Epoch 3/100\n",
            "40/40 [==============================] - 1s 20ms/step - loss: 6.1176e-04\n",
            "Epoch 4/100\n",
            "40/40 [==============================] - 1s 20ms/step - loss: 5.5732e-04\n",
            "Epoch 5/100\n",
            "40/40 [==============================] - 1s 19ms/step - loss: 5.3897e-04\n",
            "Epoch 6/100\n",
            "40/40 [==============================] - 2s 39ms/step - loss: 5.0260e-04\n",
            "Epoch 7/100\n",
            "40/40 [==============================] - 2s 53ms/step - loss: 4.5870e-04\n",
            "Epoch 8/100\n",
            "40/40 [==============================] - 2s 44ms/step - loss: 4.9042e-04\n",
            "Epoch 9/100\n",
            "40/40 [==============================] - 2s 50ms/step - loss: 4.3030e-04\n",
            "Epoch 10/100\n",
            "40/40 [==============================] - 2s 41ms/step - loss: 4.6243e-04\n",
            "Epoch 11/100\n",
            "40/40 [==============================] - 2s 38ms/step - loss: 4.2288e-04\n",
            "Epoch 12/100\n",
            "40/40 [==============================] - 1s 36ms/step - loss: 4.1257e-04\n",
            "Epoch 13/100\n",
            "40/40 [==============================] - 1s 35ms/step - loss: 3.9367e-04\n",
            "Epoch 14/100\n",
            "40/40 [==============================] - 2s 54ms/step - loss: 4.3329e-04\n",
            "Epoch 15/100\n",
            "40/40 [==============================] - 1s 19ms/step - loss: 3.8680e-04\n",
            "Epoch 16/100\n",
            "40/40 [==============================] - 1s 20ms/step - loss: 3.6589e-04\n",
            "Epoch 17/100\n",
            "40/40 [==============================] - 1s 20ms/step - loss: 3.5452e-04\n",
            "Epoch 18/100\n",
            "40/40 [==============================] - 1s 18ms/step - loss: 3.8864e-04\n",
            "Epoch 19/100\n",
            "40/40 [==============================] - 1s 19ms/step - loss: 3.4356e-04\n",
            "Epoch 20/100\n",
            "40/40 [==============================] - 1s 20ms/step - loss: 3.7361e-04\n",
            "Epoch 21/100\n",
            "40/40 [==============================] - 1s 19ms/step - loss: 3.7674e-04\n",
            "Epoch 22/100\n",
            "40/40 [==============================] - 1s 19ms/step - loss: 3.3884e-04\n",
            "Epoch 23/100\n",
            "40/40 [==============================] - 1s 19ms/step - loss: 3.4993e-04\n",
            "Epoch 24/100\n",
            "40/40 [==============================] - 1s 19ms/step - loss: 3.5857e-04\n",
            "Epoch 25/100\n",
            "40/40 [==============================] - 1s 21ms/step - loss: 3.1946e-04\n",
            "Epoch 26/100\n",
            "40/40 [==============================] - 1s 19ms/step - loss: 3.2867e-04\n",
            "Epoch 27/100\n",
            "40/40 [==============================] - 1s 23ms/step - loss: 3.4513e-04\n",
            "Epoch 28/100\n",
            "40/40 [==============================] - 2s 40ms/step - loss: 3.1517e-04\n",
            "Epoch 29/100\n",
            "40/40 [==============================] - 2s 44ms/step - loss: 3.1762e-04\n",
            "Epoch 30/100\n",
            "40/40 [==============================] - 1s 19ms/step - loss: 3.1445e-04\n",
            "Epoch 31/100\n",
            "40/40 [==============================] - 1s 19ms/step - loss: 3.2487e-04\n",
            "Epoch 32/100\n",
            "40/40 [==============================] - 1s 20ms/step - loss: 3.2577e-04\n",
            "Epoch 33/100\n",
            "40/40 [==============================] - 1s 20ms/step - loss: 3.2671e-04\n",
            "Epoch 34/100\n",
            "40/40 [==============================] - 1s 32ms/step - loss: 3.1257e-04\n",
            "Epoch 35/100\n",
            "40/40 [==============================] - 1s 18ms/step - loss: 3.5379e-04\n",
            "Epoch 36/100\n",
            "40/40 [==============================] - 1s 21ms/step - loss: 3.1371e-04\n",
            "Epoch 37/100\n",
            "40/40 [==============================] - 1s 18ms/step - loss: 2.9256e-04\n",
            "Epoch 38/100\n",
            "40/40 [==============================] - 1s 19ms/step - loss: 3.1168e-04\n",
            "Epoch 39/100\n",
            "40/40 [==============================] - 1s 19ms/step - loss: 2.9353e-04\n",
            "Epoch 40/100\n",
            "40/40 [==============================] - 1s 20ms/step - loss: 2.9283e-04\n",
            "Epoch 41/100\n",
            "40/40 [==============================] - 1s 35ms/step - loss: 2.7521e-04\n",
            "Epoch 42/100\n",
            "40/40 [==============================] - 1s 30ms/step - loss: 2.8919e-04\n",
            "Epoch 43/100\n",
            "40/40 [==============================] - 1s 20ms/step - loss: 2.6729e-04\n",
            "Epoch 44/100\n",
            "40/40 [==============================] - 1s 19ms/step - loss: 2.8673e-04\n",
            "Epoch 45/100\n",
            "40/40 [==============================] - 1s 18ms/step - loss: 2.7890e-04\n",
            "Epoch 46/100\n",
            "40/40 [==============================] - 1s 19ms/step - loss: 2.7113e-04\n",
            "Epoch 47/100\n",
            "40/40 [==============================] - 1s 19ms/step - loss: 2.6006e-04\n",
            "Epoch 48/100\n",
            "40/40 [==============================] - 1s 20ms/step - loss: 2.9712e-04\n",
            "Epoch 49/100\n",
            "40/40 [==============================] - 1s 19ms/step - loss: 2.8107e-04\n",
            "Epoch 50/100\n",
            "40/40 [==============================] - 1s 21ms/step - loss: 2.5694e-04\n",
            "Epoch 51/100\n",
            "40/40 [==============================] - 1s 20ms/step - loss: 2.5272e-04\n",
            "Epoch 52/100\n",
            "40/40 [==============================] - 1s 18ms/step - loss: 2.5069e-04\n",
            "Epoch 53/100\n",
            "40/40 [==============================] - 1s 19ms/step - loss: 2.5343e-04\n",
            "Epoch 54/100\n",
            "40/40 [==============================] - 1s 20ms/step - loss: 2.6386e-04\n",
            "Epoch 55/100\n",
            "40/40 [==============================] - 1s 29ms/step - loss: 2.4264e-04\n",
            "Epoch 56/100\n",
            "40/40 [==============================] - 1s 36ms/step - loss: 2.5395e-04\n",
            "Epoch 57/100\n",
            "40/40 [==============================] - 1s 21ms/step - loss: 2.4294e-04\n",
            "Epoch 58/100\n",
            "40/40 [==============================] - 1s 20ms/step - loss: 2.3760e-04\n",
            "Epoch 59/100\n",
            "40/40 [==============================] - 1s 20ms/step - loss: 2.4717e-04\n",
            "Epoch 60/100\n",
            "40/40 [==============================] - 1s 19ms/step - loss: 2.4578e-04\n",
            "Epoch 61/100\n",
            "40/40 [==============================] - 1s 20ms/step - loss: 2.3397e-04\n",
            "Epoch 62/100\n",
            "40/40 [==============================] - 1s 19ms/step - loss: 2.3961e-04\n",
            "Epoch 63/100\n",
            "40/40 [==============================] - 1s 18ms/step - loss: 2.5198e-04\n",
            "Epoch 64/100\n",
            "40/40 [==============================] - 1s 18ms/step - loss: 2.6469e-04\n",
            "Epoch 65/100\n",
            "40/40 [==============================] - 1s 20ms/step - loss: 2.8614e-04\n",
            "Epoch 66/100\n",
            "40/40 [==============================] - 1s 20ms/step - loss: 2.5770e-04\n",
            "Epoch 67/100\n",
            "40/40 [==============================] - 1s 20ms/step - loss: 2.2989e-04\n",
            "Epoch 68/100\n",
            "40/40 [==============================] - 1s 20ms/step - loss: 2.3862e-04\n",
            "Epoch 69/100\n",
            "40/40 [==============================] - 1s 22ms/step - loss: 2.5042e-04\n",
            "Epoch 70/100\n",
            "40/40 [==============================] - 1s 35ms/step - loss: 2.1906e-04\n",
            "Epoch 71/100\n",
            "40/40 [==============================] - 1s 29ms/step - loss: 2.2857e-04\n",
            "Epoch 72/100\n",
            "40/40 [==============================] - 1s 19ms/step - loss: 2.3066e-04\n",
            "Epoch 73/100\n",
            "40/40 [==============================] - 1s 21ms/step - loss: 2.2843e-04\n",
            "Epoch 74/100\n",
            "40/40 [==============================] - 1s 20ms/step - loss: 2.3818e-04\n",
            "Epoch 75/100\n",
            "40/40 [==============================] - 1s 19ms/step - loss: 2.6342e-04\n",
            "Epoch 76/100\n",
            "40/40 [==============================] - 1s 20ms/step - loss: 2.8133e-04\n",
            "Epoch 77/100\n",
            "40/40 [==============================] - 1s 20ms/step - loss: 2.7450e-04\n",
            "Epoch 78/100\n",
            "40/40 [==============================] - 1s 19ms/step - loss: 2.3894e-04\n",
            "Epoch 79/100\n",
            "40/40 [==============================] - 1s 20ms/step - loss: 2.1711e-04\n",
            "Epoch 80/100\n",
            "40/40 [==============================] - 1s 19ms/step - loss: 2.3902e-04\n",
            "Epoch 81/100\n",
            "40/40 [==============================] - 1s 20ms/step - loss: 2.0871e-04\n",
            "Epoch 82/100\n",
            "40/40 [==============================] - 1s 20ms/step - loss: 2.2710e-04\n",
            "Epoch 83/100\n",
            "40/40 [==============================] - 1s 19ms/step - loss: 2.0824e-04\n",
            "Epoch 84/100\n",
            "40/40 [==============================] - 1s 31ms/step - loss: 2.0847e-04\n",
            "Epoch 85/100\n",
            "40/40 [==============================] - 2s 45ms/step - loss: 2.0545e-04\n",
            "Epoch 86/100\n",
            "40/40 [==============================] - 1s 29ms/step - loss: 2.1052e-04\n",
            "Epoch 87/100\n",
            "40/40 [==============================] - 1s 28ms/step - loss: 2.2502e-04\n",
            "Epoch 88/100\n",
            "40/40 [==============================] - 1s 19ms/step - loss: 2.1553e-04\n",
            "Epoch 89/100\n",
            "40/40 [==============================] - 1s 19ms/step - loss: 2.0409e-04\n",
            "Epoch 90/100\n",
            "40/40 [==============================] - 1s 19ms/step - loss: 2.0873e-04\n",
            "Epoch 91/100\n",
            "40/40 [==============================] - 1s 20ms/step - loss: 2.0371e-04\n",
            "Epoch 92/100\n",
            "40/40 [==============================] - 1s 20ms/step - loss: 2.1852e-04\n",
            "Epoch 93/100\n",
            "40/40 [==============================] - 1s 19ms/step - loss: 2.2221e-04\n",
            "Epoch 94/100\n",
            "40/40 [==============================] - 1s 21ms/step - loss: 2.6680e-04\n",
            "Epoch 95/100\n",
            "40/40 [==============================] - 1s 19ms/step - loss: 2.0947e-04\n",
            "Epoch 96/100\n",
            "40/40 [==============================] - 1s 19ms/step - loss: 2.0749e-04\n",
            "Epoch 97/100\n",
            "40/40 [==============================] - 1s 21ms/step - loss: 2.0932e-04\n",
            "Epoch 98/100\n",
            "40/40 [==============================] - 1s 35ms/step - loss: 2.1599e-04\n",
            "Epoch 99/100\n",
            "40/40 [==============================] - 1s 30ms/step - loss: 2.3146e-04\n",
            "Epoch 100/100\n",
            "40/40 [==============================] - 1s 35ms/step - loss: 2.4912e-04\n"
          ]
        },
        {
          "output_type": "execute_result",
          "data": {
            "text/plain": [
              "<keras.callbacks.History at 0x7f82f0df5030>"
            ]
          },
          "metadata": {},
          "execution_count": 11
        }
      ]
    },
    {
      "cell_type": "code",
      "source": [
        "rnn_predictions = rnn_model.predict(X_test)\n",
        "rnn_predictions = scaler.inverse_transform(rnn_predictions)\n",
        "y_actual = scaler.inverse_transform(y_test)"
      ],
      "metadata": {
        "colab": {
          "base_uri": "https://localhost:8080/"
        },
        "id": "3LUMXPRnK1hV",
        "outputId": "8a67de5c-d62d-4fe5-9491-6b64884f8047"
      },
      "execution_count": null,
      "outputs": [
        {
          "output_type": "stream",
          "name": "stdout",
          "text": [
            "20/20 [==============================] - 0s 4ms/step\n"
          ]
        }
      ]
    },
    {
      "cell_type": "code",
      "source": [
        "# data.reset_index(inplace = True)\n",
        "plt.title('Stock Price Prediction')\n",
        "plt.xlabel('Date')\n",
        "plt.ylabel('Closing Price')\n",
        "plt.plot(data.loc[train_size + seq_length:, 'Date'], y_actual, label = 'Real')\n",
        "plt.plot(data.loc[train_size + seq_length:, 'Date'], rnn_predictions, label = 'Predicted')\n",
        "plt.xticks(rotation = 'vertical')\n",
        "plt.legend()\n",
        "plt.show()"
      ],
      "metadata": {
        "colab": {
          "base_uri": "https://localhost:8080/",
          "height": 515
        },
        "id": "i1PQVHD0K7On",
        "outputId": "2e45cc96-58e1-4228-80ca-d44e488bc94a"
      },
      "execution_count": null,
      "outputs": [
        {
          "output_type": "display_data",
          "data": {
            "text/plain": [
              "<Figure size 640x480 with 1 Axes>"
            ],
            "image/png": "[encoded data removed]"
          },
          "metadata": {}
        }
      ]
    }
  ]
}